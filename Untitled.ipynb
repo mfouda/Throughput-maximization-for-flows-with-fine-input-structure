{
 "cells": [
  {
   "cell_type": "code",
   "execution_count": 4,
   "metadata": {
    "collapsed": true
   },
   "outputs": [],
   "source": [
    "import math\n",
    "import time\n",
    "import numpy as np\n",
    "from IPython.display import clear_output\n",
    "from threading import Thread, Event"
   ]
  },
  {
   "cell_type": "code",
   "execution_count": 5,
   "metadata": {
    "collapsed": true
   },
   "outputs": [],
   "source": [
    "# T_k^0, R_k(last_t), A_k, r_k(last_t)\n",
    "clients = []\n",
    "ready_clients = []\n",
    "T = 0.\n",
    "A =  (500 * 5.5 / 4.5) + math.sqrt((5.5 / 3.5) * (500 / 4.5) ** 2)\n",
    "l = 1 / (100 - math.sqrt(100))\n",
    "r = 3.5 * (l * A)"
   ]
  },
  {
   "cell_type": "code",
   "execution_count": 6,
   "metadata": {
    "collapsed": true
   },
   "outputs": [],
   "source": [
    "for i in range(100):\n",
    "    T += 10\n",
    "    A = (np.random.pareto(5.5) + 1) * 500\n",
    "    r_mean = np.random.uniform(r / 5.5, r * (10 / 5.5))\n",
    "    rk = np.random.uniform(r_mean * 0.7, r_mean * 1.3)\n",
    "    client = [T, np.random.uniform(1, A), A, rk, r_mean]\n",
    "    clients.append(client)"
   ]
  },
  {
   "cell_type": "code",
   "execution_count": 7,
   "metadata": {
    "collapsed": false
   },
   "outputs": [
    {
     "name": "stdout",
     "output_type": "stream",
     "text": [
      "1\n"
     ]
    }
   ],
   "source": [
    "T = 0\n",
    "while len(clients) != 0:\n",
    "    T += 1\n",
    "    try:\n",
    "        k = []\n",
    "        for i in range(len(clients)):\n",
    "            Tk0 = clients[i][0]\n",
    "            Rk = clients[i][1] + 1e-20\n",
    "            r_mean = clients[i][4]\n",
    "            clients[i][3] = np.random.uniform(r_mean * 0.7, r_mean * 1.3)\n",
    "            rk = clients[i][3]\n",
    "            k.append(rk / Rk)\n",
    "        # i = np.random.choice(np.arange(0, len(clients)), p=[ki / sum(k) for ki in k])\n",
    "        i = np.argmax(k)\n",
    "        clients[i][1] += min(clients[i][3], clients[i][2] - clients[i][1])\n",
    "        clear_output(wait=True)\n",
    "        print(len(clients))\n",
    "        if clients[i][1] == clients[i][2]:\n",
    "            ready_clients.append(clients[i] + [T])\n",
    "            del clients[i]\n",
    "    except:\n",
    "        pass "
   ]
  },
  {
   "cell_type": "code",
   "execution_count": null,
   "metadata": {
    "collapsed": true
   },
   "outputs": [],
   "source": []
  }
 ],
 "metadata": {
  "kernelspec": {
   "display_name": "Python [default]",
   "language": "python",
   "name": "python3"
  },
  "language_info": {
   "codemirror_mode": {
    "name": "ipython",
    "version": 3
   },
   "file_extension": ".py",
   "mimetype": "text/x-python",
   "name": "python",
   "nbconvert_exporter": "python",
   "pygments_lexer": "ipython3",
   "version": "3.5.2"
  }
 },
 "nbformat": 4,
 "nbformat_minor": 2
}
