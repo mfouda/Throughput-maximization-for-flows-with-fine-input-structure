{
 "cells": [
  {
   "cell_type": "code",
   "execution_count": 3,
   "metadata": {
    "collapsed": false
   },
   "outputs": [
    {
     "name": "stdout",
     "output_type": "stream",
     "text": [
      "38623.0 285\n"
     ]
    }
   ],
   "source": [
    "class GenerationThread(Thread):\n",
    "    def __init__(self, poisson_param, power_param, val_power):\n",
    "        self.poisson_param = poisson_param\n",
    "        self.power_param = power_param\n",
    "        self.val_power = val_power\n",
    "        Thread.__init__(self)\n",
    "    \n",
    "    def run(self):\n",
    "        global clients, e, T\n",
    "        for i in range(300):\n",
    "            e.wait(timeout=pause / 1000.)\n",
    "            client = [T, 0., A, rk] # new client\n",
    "            clients.append(client)\n",
    "    \n",
    "e = threading.Event()\n",
    "        \n",
    "generation = GenerationThread(500, 2.5, 500)\n",
    "generation.setDaemon(True)\n",
    "generation.start()\n",
    "\n",
    "class ListeningThread(Thread):\n",
    "    def __init__(self, timeout):\n",
    "        self.timeout = timeout\n",
    "        Thread.__init__(self)\n",
    "     \n",
    "    def run(self):\n",
    "        global clients, e1, T, rk_mean\n",
    "        last_ = 0\n",
    "        while True:\n",
    "            T += 1\n",
    "            e.wait(timeout=self.timeout)\n",
    "            try:\n",
    "                k = []\n",
    "                for i in range(len(clients)):\n",
    "                    k.append(1) # index\n",
    "                i = k.index(max(k))\n",
    "                clients[i][1] += clients[i][3]\n",
    "                clear_output(wait=True)\n",
    "                print(T, len(k))\n",
    "                if clients[i][1] == clients[i][2]:\n",
    "                    del clients[i]\n",
    "            except:\n",
    "                pass\n",
    "    \n",
    "e1 = threading.Event()\n",
    "        \n",
    "listening = ListeningThread(0.00065)\n",
    "listening.setDaemon(True)\n",
    "listening.start()"
   ]
  }
 ],
 "metadata": {
  "anaconda-cloud": {},
  "kernelspec": {
   "display_name": "Python [default]",
   "language": "python",
   "name": "python3"
  },
  "language_info": {
   "codemirror_mode": {
    "name": "ipython",
    "version": 3
   },
   "file_extension": ".py",
   "mimetype": "text/x-python",
   "name": "python",
   "nbconvert_exporter": "python",
   "pygments_lexer": "ipython3",
   "version": "3.5.2"
  }
 },
 "nbformat": 4,
 "nbformat_minor": 2
}
