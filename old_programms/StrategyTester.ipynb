{
 "cells": [
  {
   "cell_type": "code",
   "execution_count": 1,
   "metadata": {
    "collapsed": false
   },
   "outputs": [],
   "source": [
    "import math\n",
    "import numpy as np\n",
    "\n",
    "# T_k^0, R_k(last_t), A_k, r_k(last_t)\n",
    "clients = []\n",
    "ready_clients = []\n",
    "T = 0.\n",
    "A =  (500 * 5.5 / 4.5) + math.sqrt((5.5 / 3.5) * (500 / 4.5) ** 2)\n",
    "l = 1 / (100 - math.sqrt(100))\n",
    "r = 3.5 * (l * A)"
   ]
  },
  {
   "cell_type": "code",
   "execution_count": 2,
   "metadata": {
    "collapsed": false
   },
   "outputs": [
    {
     "data": {
      "text/plain": [
       "(8.337736223525948, 29.182076782340815)"
      ]
     },
     "execution_count": 2,
     "metadata": {},
     "output_type": "execute_result"
    }
   ],
   "source": [
    "A * l, r"
   ]
  },
  {
   "cell_type": "code",
   "execution_count": 3,
   "metadata": {
    "collapsed": false
   },
   "outputs": [
    {
     "data": {
      "text/plain": [
       "29.182076782340815"
      ]
     },
     "execution_count": 3,
     "metadata": {},
     "output_type": "execute_result"
    }
   ],
   "source": [
    "r"
   ]
  },
  {
   "cell_type": "code",
   "execution_count": 4,
   "metadata": {
    "collapsed": false
   },
   "outputs": [],
   "source": [
    "import threading\n",
    "import time\n",
    "from IPython.display import clear_output\n",
    "from threading import Thread\n",
    "\n",
    "A_h_sum = 0\n",
    "for i in range(100):\n",
    "    A = (np.random.pareto(5.5) + 1) * 500\n",
    "    rk = np.random.uniform(r * 0.7, r * 1.3)\n",
    "#     A = 370\n",
    "#     rk = r\n",
    "    A_h_sum += A\n",
    "    client = [T, 0., A, rk]\n",
    "    clients.append(client)\n",
    "\n",
    "# KB / msec"
   ]
  },
  {
   "cell_type": "code",
   "execution_count": 5,
   "metadata": {
    "collapsed": false
   },
   "outputs": [
    {
     "name": "stdout",
     "output_type": "stream",
     "text": [
      "1\n"
     ]
    },
    {
     "ename": "AttributeError",
     "evalue": "'ListeningThread' object has no attribute 'stop'",
     "output_type": "error",
     "traceback": [
      "\u001b[0;31m---------------------------------------------------------------------------\u001b[0m",
      "\u001b[0;31mAttributeError\u001b[0m                            Traceback (most recent call last)",
      "\u001b[0;32m<ipython-input-5-132f18b8b2f1>\u001b[0m in \u001b[0;36m<module>\u001b[0;34m()\u001b[0m\n\u001b[1;32m     61\u001b[0m \u001b[0;34m\u001b[0m\u001b[0m\n\u001b[1;32m     62\u001b[0m \u001b[0mgeneration\u001b[0m\u001b[0;34m.\u001b[0m\u001b[0mjoin\u001b[0m\u001b[0;34m(\u001b[0m\u001b[0;34m)\u001b[0m\u001b[0;34m\u001b[0m\u001b[0m\n\u001b[0;32m---> 63\u001b[0;31m \u001b[0mlistening\u001b[0m\u001b[0;34m.\u001b[0m\u001b[0mstop\u001b[0m\u001b[0;34m(\u001b[0m\u001b[0;34m)\u001b[0m\u001b[0;34m\u001b[0m\u001b[0m\n\u001b[0m",
      "\u001b[0;31mAttributeError\u001b[0m: 'ListeningThread' object has no attribute 'stop'"
     ]
    }
   ],
   "source": [
    "class GenerationThread(Thread):\n",
    "    def __init__(self, poisson_param, power_param, val_power):\n",
    "        self.poisson_param = poisson_param\n",
    "        self.power_param = power_param\n",
    "        self.val_power = val_power\n",
    "        Thread.__init__(self)\n",
    "    \n",
    "    def run(self):\n",
    "        global clients, e, T\n",
    "        for i in range(50):\n",
    "            pause = np.random.poisson(self.poisson_param)\n",
    "            e.wait(timeout=pause / 1000.)\n",
    "            A = (np.random.pareto(self.power_param) + 1) * self.val_power\n",
    "            rk = np.random.uniform(r * 0.7, r * 1.3)\n",
    "            client = [T, 0., A, rk]\n",
    "            clients.append(client)\n",
    "    \n",
    "e = threading.Event()\n",
    "        \n",
    "generation = GenerationThread(100, 5.5, 500)\n",
    "generation.setDaemon(True)\n",
    "generation.start()\n",
    "\n",
    "class ListeningThread(Thread):\n",
    "    def __init__(self, timeout):\n",
    "        self.timeout = timeout\n",
    "        Thread.__init__(self)\n",
    "     \n",
    "    def run(self):\n",
    "        global clients, e1, T, rk_mean\n",
    "        last_ = 0\n",
    "        while True:\n",
    "            T += 1\n",
    "            e.wait(timeout=self.timeout)\n",
    "            try:\n",
    "                k = []\n",
    "                for i in range(len(clients)):\n",
    "                    Tk0 = clients[i][0]\n",
    "                    Rk = clients[i][1] + 1e-20\n",
    "                    clients[i][3] = np.random.uniform(r * 0.7, r*1.3)\n",
    "                    rk = clients[i][3]\n",
    "                    k.append(rk / (T - Tk0))\n",
    "#                 i = np.random.choice(np.arange(0, len(clients)), p=[ki / sum(k) for ki in k])\n",
    "                i = k.index(max(k))\n",
    "                clients[i][1] += min(clients[i][3], clients[i][2] - clients[i][1])\n",
    "                clear_output(wait=True)\n",
    "#                 print(A_, r_)\n",
    "#                 print(T, len(k))\n",
    "                print(len(clients))\n",
    "                if clients[i][1] == clients[i][2]:\n",
    "                    ready_clients.append(clients[i] + [T])\n",
    "                    del clients[i]\n",
    "            except:\n",
    "                pass\n",
    "    \n",
    "e1 = threading.Event()\n",
    "        \n",
    "listening = ListeningThread(0.00067)\n",
    "listening.setDaemon(True)\n",
    "listening.start()\n",
    "\n",
    "generation.join()\n",
    "listening.stop()"
   ]
  },
  {
   "cell_type": "code",
   "execution_count": 6,
   "metadata": {
    "collapsed": false
   },
   "outputs": [
    {
     "data": {
      "text/plain": [
       "1100"
      ]
     },
     "execution_count": 6,
     "metadata": {},
     "output_type": "execute_result"
    }
   ],
   "source": [
    "len(ready_clients)"
   ]
  },
  {
   "cell_type": "code",
   "execution_count": 7,
   "metadata": {
    "collapsed": false
   },
   "outputs": [],
   "source": [
    "HuaweiQ = 0.\n",
    "for k in ready_clients:\n",
    "    HuaweiQ += k[1] / (k[-1] - k[0])\n",
    "HuaweiQ /= len(ready_clients)"
   ]
  },
  {
   "cell_type": "code",
   "execution_count": 8,
   "metadata": {
    "collapsed": false
   },
   "outputs": [
    {
     "data": {
      "text/plain": [
       "25.405201120881557"
      ]
     },
     "execution_count": 8,
     "metadata": {},
     "output_type": "execute_result"
    }
   ],
   "source": [
    "HuaweiQ"
   ]
  },
  {
   "cell_type": "markdown",
   "metadata": {
    "collapsed": true
   },
   "source": [
    "$$Q_{Huawei}(Index_{Huawei}) = 1.44 $$\n",
    "$$Q_{Huawei}(Index_{Google}) = 2.08 $$\n",
    "$$Q_{Huawei}(Index_{Intel, IBM}) = 2.58 $$\n",
    "$$Q_{Huawei}(Index_{Old}) = 1.27 $$\n",
    "$$Q_{Huawei}(Index_{Timofey}) = 9.58 $$"
   ]
  },
  {
   "cell_type": "code",
   "execution_count": 10,
   "metadata": {
    "collapsed": false
   },
   "outputs": [],
   "source": [
    "# import pickle \n",
    "\n",
    "# with open(\"HuaweiQ(HuaweiIndex).q\", \"wb\") as f:\n",
    "#     pickle.dump(HuaweiQ, f)\n",
    "    \n",
    "# with open(\"HuaweiQ(HuaweiIndex).q\", \"rb\") as f:\n",
    "#     HuaweiQ = pickle.load(f)"
   ]
  }
 ],
 "metadata": {
  "anaconda-cloud": {},
  "celltoolbar": "Raw Cell Format",
  "kernelspec": {
   "display_name": "Python [default]",
   "language": "python",
   "name": "python3"
  },
  "language_info": {
   "codemirror_mode": {
    "name": "ipython",
    "version": 3
   },
   "file_extension": ".py",
   "mimetype": "text/x-python",
   "name": "python",
   "nbconvert_exporter": "python",
   "pygments_lexer": "ipython3",
   "version": "3.5.2"
  }
 },
 "nbformat": 4,
 "nbformat_minor": 2
}
