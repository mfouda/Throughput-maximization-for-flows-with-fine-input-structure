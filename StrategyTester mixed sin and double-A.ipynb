{
 "cells": [
  {
   "cell_type": "code",
   "execution_count": 1,
   "metadata": {
    "collapsed": true
   },
   "outputs": [],
   "source": [
    "import numpy as np\n",
    "import math"
   ]
  },
  {
   "cell_type": "code",
   "execution_count": 45,
   "metadata": {
    "collapsed": false
   },
   "outputs": [],
   "source": [
    "class Scheduler:\n",
    "    def __init__(self, pareto_a=5.5, pareto_m=500, time_between_clients=11, \n",
    "                 initial_clients_count=10, generated_clients_count=1000):\n",
    "        self.pareto_a = pareto_a\n",
    "        self.pareto_m = pareto_m\n",
    "\n",
    "        self.time_between_clients = time_between_clients\n",
    "\n",
    "        A_mean = (pareto_m * pareto_a / (pareto_a - 1))\n",
    "        A_std = math.sqrt((pareto_a / (pareto_a-2)) * (pareto_m / (pareto_a - 1)) ** 2)\n",
    "        A = A_mean + A_std\n",
    "\n",
    "        time_between_clients_mean = time_between_clients\n",
    "        time_between_clients_std = math.sqrt(time_between_clients)\n",
    "        λ = 1 / (time_between_clients_mean - time_between_clients_std)\n",
    "        self.r = (λ * A)\n",
    "\n",
    "        self.initial_clients_count = initial_clients_count\n",
    "        self.generated_clients_count = generated_clients_count\n",
    "\n",
    "        self.processed_clients = []\n",
    "        self.all_clients = []\n",
    "\n",
    "        self.queue = []\n",
    "        self.t = 0\n",
    "    \n",
    "    def clean(self):\n",
    "        self.processed_clients = []\n",
    "        self.all_clients = []\n",
    "\n",
    "        self.queue = []\n",
    "        self.t = 0\n",
    "    \n",
    "    def generate_initial_clients(self):\n",
    "        for i in range(self.initial_clients_count):\n",
    "            Ak = int((np.random.pareto(self.pareto_a) + 1) * self.pareto_m)\n",
    "            rk_mean = int(np.random.uniform(self.r / 5.5, self.r * (10 / 5.5)))\n",
    "            Rk = int(np.random.uniform(0, Ak))\n",
    "            Tk0 = 0\n",
    "            client = [Tk0, Ak, Rk, rk_mean]\n",
    "            self.queue.append(client)\n",
    "        \n",
    "    def generate_clients(self):\n",
    "        T0 = 0\n",
    "        for i in range(self.generated_clients_count):\n",
    "            Ak = int((np.random.pareto(self.pareto_a) + 1) * self.pareto_m)\n",
    "            rk_mean = int(np.random.uniform(self.r / 5.5, self.r * (10 / 5.5)))\n",
    "            T0 += int(np.random.exponential(self.time_between_clients))\n",
    "            Rk = 0\n",
    "            client = [T0, Ak, Rk, rk_mean]\n",
    "            self.all_clients.append(client)\n",
    "    \n",
    "    def index_client(self, index_strategy, rk, Rk, rk_mean, Tk, Tk0):\n",
    "        if index_strategy == \"IBM\":\n",
    "            return rk\n",
    "        elif index_strategy == \"RoundRobin\":\n",
    "            return -Tk0\n",
    "        elif index_strategy == \"Google\":\n",
    "            return rk * Tk / Rk\n",
    "        elif index_strategy == \"Huawei\":\n",
    "            return rk / Rk\n",
    "        elif index_strategy == \"TAS\":\n",
    "            return rk / (Tk + 1e-20) \n",
    "        elif index_strategy == \"T\":\n",
    "            c1 = 0.6 / math.log(13/7)\n",
    "            return Rk / (  Tk + (Rk / (c1*rk_mean + 1e-20))  )\n",
    "        elif index_strategy == \"Random\":\n",
    "            return np.random.uniform(0, 1)\n",
    "        \n",
    "    def generate_random_strategy(self, strategies_list, probabilities_list):\n",
    "        return np.random.choice(strategies_list, p=probabilities_list)\n",
    "\n",
    "    def run_simulation(self, strategies_list, probabilities_list):\n",
    "        history = []\n",
    "        huawei_quality_metric = 0.\n",
    "        \n",
    "        while len(self.all_clients) != 0:\n",
    "            self.t += 1\n",
    "            strategy = self.generate_random_strategy(strategies_list, probabilities_list)\n",
    "\n",
    "            j = 0\n",
    "            while ((j < len(self.all_clients)) and (self.all_clients[j][0] <= self.t)):\n",
    "                j += 1\n",
    "            self.queue += self.all_clients[:j]\n",
    "            self.all_clients[:j] = []\n",
    "\n",
    "            max_index = -1e20\n",
    "            argmax_index = 0\n",
    "            rk_argmax = 0\n",
    "            for k in range(len(self.queue)):\n",
    "                Tk0 = self.queue[k][0]\n",
    "                Tk = self.t - Tk0\n",
    "                rk_mean = self.queue[k][3]\n",
    "                rk = int(np.random.uniform(rk_mean * 0.7, rk_mean * 1.3))\n",
    "                Rk = self.queue[k][2] + 1e-10\n",
    "                \n",
    "                index_k = self.index_client(strategy, rk, Rk, rk_mean, Tk, Tk0)\n",
    "                if index_k > max_index :\n",
    "                    max_index = index_k\n",
    "                    argmax_index = k\n",
    "                    rk_argmax = rk\n",
    "\n",
    "            if len(self.queue) > 0:\n",
    "                self.queue[argmax_index][2] += rk_argmax\n",
    "                if self.queue[argmax_index][2] >= self.queue[argmax_index][1]:\n",
    "                    self.queue[argmax_index].append(self.t - self.queue[argmax_index][0])\n",
    "                    self.processed_clients.append(self.queue[argmax_index])\n",
    "                    del self.queue[argmax_index]\n",
    "            history.append(len(self.queue))\n",
    "            \n",
    "        for i in range(len(self.processed_clients)):\n",
    "            huawei_quality_metric += self.processed_clients[i][1] / self.processed_clients[i][-1]\n",
    "        huawei_quality_metric /= len(self.processed_clients)\n",
    "        \n",
    "        return history, huawei_quality_metric"
   ]
  },
  {
   "cell_type": "code",
   "execution_count": 103,
   "metadata": {
    "collapsed": false
   },
   "outputs": [
    {
     "name": "stdout",
     "output_type": "stream",
     "text": [
      "IBM : 87.39031995645766\n",
      "RoundRobin : 26.377272178636343\n",
      "Google : 37.27888731551354\n",
      "Huawei : 62.365521123161685\n",
      "TAS : 81.04517448171491\n",
      "T : 86.23771914618456\n",
      "Random : 26.616087846207165\n"
     ]
    }
   ],
   "source": [
    "for critery in [\"IBM\", \"RoundRobin\", \"Google\", \"Huawei\", \"TAS\", \"T\", \"Random\"]:\n",
    "    metrics = []\n",
    "    for i in range(10):\n",
    "        scheduler = Scheduler()\n",
    "        scheduler.generate_initial_clients()\n",
    "        scheduler.generate_clients()\n",
    "        history, metric = scheduler.run_simulation([critery], [1])\n",
    "        metrics.append(metric)\n",
    "    print(critery, \":\", sum(metrics)/len(metrics))"
   ]
  },
  {
   "cell_type": "code",
   "execution_count": 115,
   "metadata": {
    "collapsed": false,
    "scrolled": true
   },
   "outputs": [
    {
     "name": "stdout",
     "output_type": "stream",
     "text": [
      "0.1 0.1\n",
      "0.1 0.2\n",
      "0.1 0.3\n",
      "0.1 0.4\n",
      "0.1 0.5\n",
      "0.1 0.6\n",
      "0.1 0.7\n",
      "0.1 0.8\n",
      "0.1 0.9\n",
      "0.2 0.1\n",
      "0.2 0.2\n",
      "0.2 0.3\n",
      "0.2 0.4\n",
      "0.2 0.5\n",
      "0.2 0.6\n",
      "0.2 0.7\n",
      "0.2 0.8\n",
      "0.3 0.1\n",
      "0.3 0.2\n",
      "0.3 0.3\n",
      "0.3 0.4\n",
      "0.3 0.5\n",
      "0.3 0.6\n",
      "0.3 0.7\n",
      "0.4 0.1\n",
      "0.4 0.2\n",
      "0.4 0.3\n",
      "0.4 0.4\n",
      "0.4 0.5\n",
      "0.4 0.6\n",
      "0.5 0.1\n",
      "0.5 0.2\n",
      "0.5 0.3\n",
      "0.5 0.4\n",
      "0.5 0.5\n",
      "0.6 0.1\n",
      "0.6 0.2\n",
      "0.6 0.3\n",
      "0.6 0.4\n",
      "0.7 0.1\n",
      "0.7 0.2\n",
      "0.7 0.3\n",
      "0.8 0.1\n",
      "0.8 0.2\n",
      "0.9 0.1\n"
     ]
    }
   ],
   "source": [
    "scheduler = Scheduler()\n",
    "scheduler.generate_initial_clients()\n",
    "scheduler.generate_clients()\n",
    "strategies = [\"IBM\", \"T\", \"TAS\"]\n",
    "\n",
    "X, Y, z, z_high, z_low = [], [], [], [], []\n",
    "for i in range(10):\n",
    "    x = (i + 1) / 10\n",
    "    X.append(x)\n",
    "    Y = []\n",
    "    for h in range(9-i):\n",
    "        y = (h + 1) / 10\n",
    "        Y.append(y)\n",
    "        print(x, y)\n",
    "        metrics = []\n",
    "        for j in range(5):\n",
    "            history, metric = scheduler.run_simulation(strategies, [x, y, 1-(x+y)])\n",
    "            scheduler.clean()\n",
    "            scheduler.generate_initial_clients()\n",
    "            scheduler.generate_clients()\n",
    "            metrics.append(metric)\n",
    "        metrics = np.array(metrics)\n",
    "\n",
    "        metric_mean = np.mean(metrics)\n",
    "        metric_high = np.mean(metrics) + np.std(metrics)\n",
    "        metric_low = np.mean(metrics) - np.std(metrics)\n",
    "\n",
    "        z.append(metric_mean)\n",
    "        z_high.append(metric_high)\n",
    "        z_low.append(metric_low)\n",
    "    for h in range(4-i, 5):\n",
    "        y = (h + 1) / 10\n",
    "        Y.append(y)\n",
    "        z.append(80)\n",
    "        z_high.append(0)\n",
    "        z_low.append(0)"
   ]
  },
  {
   "cell_type": "code",
   "execution_count": 116,
   "metadata": {
    "collapsed": false
   },
   "outputs": [],
   "source": [
    "Y = np.array(Y) + 0.5"
   ]
  },
  {
   "cell_type": "code",
   "execution_count": 117,
   "metadata": {
    "collapsed": false,
    "scrolled": true
   },
   "outputs": [
    {
     "name": "stdout",
     "output_type": "stream",
     "text": [
      "82.9244458554921\n",
      "[[ 82.0602748   81.9687449   83.08230961  82.80853227  85.11747378\n",
      "   85.1044683   84.81784123  84.02928128  85.30798582  80.        ]\n",
      " [ 80.31205641  83.25245302  81.78379603  83.5978719   84.64978431\n",
      "   86.43171345  85.31294912  86.72637441  80.          80.        ]\n",
      " [ 81.49764349  84.36925886  83.97412624  83.14049686  85.08104473\n",
      "   85.64761736  84.14416557  80.          80.          80.        ]\n",
      " [ 83.73372687  83.022516    83.95726839  84.90134507  83.95779073\n",
      "   86.68567357  80.          80.          80.          80.        ]\n",
      " [ 83.19285931  84.02397439  85.84227071  85.84213915  86.38395485  80.\n",
      "   80.          80.          80.          80.        ]\n",
      " [ 84.87860004  84.52557935  85.6923281   86.07483253  80.          80.\n",
      "   80.          80.          80.          80.        ]\n",
      " [ 85.17884861  86.1606406   86.53019866  80.          80.          80.\n",
      "   80.          80.          80.          80.        ]\n",
      " [ 85.81037927  86.94886081  80.          80.          80.          80.\n",
      "   80.          80.          80.          80.        ]\n",
      " [ 87.59619016  80.          80.          80.          80.          80.\n",
      "   80.          80.          80.          80.        ]\n",
      " [ 80.          80.          80.          80.          80.          80.\n",
      "   80.          80.          80.          80.        ]]\n",
      "[[ 0.1  0.2  0.3  0.4  0.5  0.6  0.7  0.8  0.9  1. ]\n",
      " [ 0.1  0.2  0.3  0.4  0.5  0.6  0.7  0.8  0.9  1. ]\n",
      " [ 0.1  0.2  0.3  0.4  0.5  0.6  0.7  0.8  0.9  1. ]\n",
      " [ 0.1  0.2  0.3  0.4  0.5  0.6  0.7  0.8  0.9  1. ]\n",
      " [ 0.1  0.2  0.3  0.4  0.5  0.6  0.7  0.8  0.9  1. ]\n",
      " [ 0.1  0.2  0.3  0.4  0.5  0.6  0.7  0.8  0.9  1. ]\n",
      " [ 0.1  0.2  0.3  0.4  0.5  0.6  0.7  0.8  0.9  1. ]\n",
      " [ 0.1  0.2  0.3  0.4  0.5  0.6  0.7  0.8  0.9  1. ]\n",
      " [ 0.1  0.2  0.3  0.4  0.5  0.6  0.7  0.8  0.9  1. ]\n",
      " [ 0.1  0.2  0.3  0.4  0.5  0.6  0.7  0.8  0.9  1. ]]\n",
      "[[ 0.1  0.1  0.1  0.1  0.1  0.1  0.1  0.1  0.1  0.1]\n",
      " [ 0.2  0.2  0.2  0.2  0.2  0.2  0.2  0.2  0.2  0.2]\n",
      " [ 0.3  0.3  0.3  0.3  0.3  0.3  0.3  0.3  0.3  0.3]\n",
      " [ 0.4  0.4  0.4  0.4  0.4  0.4  0.4  0.4  0.4  0.4]\n",
      " [ 0.5  0.5  0.5  0.5  0.5  0.5  0.5  0.5  0.5  0.5]\n",
      " [ 0.6  0.6  0.6  0.6  0.6  0.6  0.6  0.6  0.6  0.6]\n",
      " [ 0.7  0.7  0.7  0.7  0.7  0.7  0.7  0.7  0.7  0.7]\n",
      " [ 0.8  0.8  0.8  0.8  0.8  0.8  0.8  0.8  0.8  0.8]\n",
      " [ 0.9  0.9  0.9  0.9  0.9  0.9  0.9  0.9  0.9  0.9]\n",
      " [ 1.   1.   1.   1.   1.   1.   1.   1.   1.   1. ]]\n"
     ]
    }
   ],
   "source": [
    "x = 0.1\n",
    "y = 0.1\n",
    "history, metric = scheduler.run_simulation(strategies, [x, y, 1-(x+y)])\n",
    "scheduler.clean()\n",
    "scheduler.generate_initial_clients()\n",
    "scheduler.generate_clients()\n",
    "print(metric)\n",
    "\n",
    "print(np.array(z).reshape(10, 10))\n",
    "X_, Y_ = np.meshgrid(X, Y)\n",
    "print(X_)\n",
    "print(Y_)"
   ]
  },
  {
   "cell_type": "code",
   "execution_count": 138,
   "metadata": {
    "collapsed": false
   },
   "outputs": [
    {
     "data": {
      "text/plain": [
       "<matplotlib.colorbar.Colorbar at 0x10b54cfd0>"
      ]
     },
     "execution_count": 138,
     "metadata": {},
     "output_type": "execute_result"
    },
    {
     "data": {
      "image/png": "[encoded data removed]",
      "text/plain": [
       "<matplotlib.figure.Figure at 0x109d652b0>"
      ]
     },
     "metadata": {},
     "output_type": "display_data"
    }
   ],
   "source": [
    "from mpl_toolkits.mplot3d import Axes3D\n",
    "import matplotlib.pyplot as plt\n",
    "from matplotlib import cm\n",
    "from matplotlib.ticker import LinearLocator, FormatStrFormatter\n",
    "import numpy as np\n",
    "%matplotlib inline\n",
    "\n",
    "fig = plt.figure()\n",
    "ax = fig.gca(projection='3d')\n",
    "\n",
    "surf = ax.plot_surface(X_, Y_, np.array(z).reshape(10, 10), cmap=cm.Blues,\n",
    "                       linewidth=0, antialiased=False)\n",
    "\n",
    "ax.set_zlim(75, 90)\n",
    "ax.zaxis.set_major_locator(LinearLocator(10))\n",
    "ax.zaxis.set_major_formatter(FormatStrFormatter('%.02f'))\n",
    "\n",
    "fig.colorbar(surf, shrink=0.5, aspect=5)"
   ]
  },
  {
   "cell_type": "code",
   "execution_count": 139,
   "metadata": {
    "collapsed": false
   },
   "outputs": [
    {
     "data": {
      "text/plain": [
       "(87.596190164412889, 80)"
      ]
     },
     "execution_count": 139,
     "metadata": {},
     "output_type": "execute_result"
    }
   ],
   "source": [
    "np.max(np.array(z)), np.matrix.argmax(np.matrix(np.array(z).reshape(10, 10)))"
   ]
  },
  {
   "cell_type": "code",
   "execution_count": null,
   "metadata": {
    "collapsed": true
   },
   "outputs": [],
   "source": []
  }
 ],
 "metadata": {
  "anaconda-cloud": {},
  "kernelspec": {
   "display_name": "Python [default]",
   "language": "python",
   "name": "python3"
  },
  "language_info": {
   "codemirror_mode": {
    "name": "ipython",
    "version": 3
   },
   "file_extension": ".py",
   "mimetype": "text/x-python",
   "name": "python",
   "nbconvert_exporter": "python",
   "pygments_lexer": "ipython3",
   "version": "3.5.2"
  }
 },
 "nbformat": 4,
 "nbformat_minor": 1
}
