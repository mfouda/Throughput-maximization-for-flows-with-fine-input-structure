{
 "cells": [
  {
   "cell_type": "code",
   "execution_count": 1,
   "metadata": {
    "collapsed": false
   },
   "outputs": [],
   "source": [
    "import math\n",
    "import numpy as np\n",
    "\n",
    "# T_k^0, R_k(last_t), A_k, r_k(last_t)\n",
    "clients = []\n",
    "ready_clients = []\n",
    "T = 0.\n",
    "A =  (500 * 5.5 / 4.5) + math.sqrt((5.5 / 3.5) * (500 / 4.5) ** 2)\n",
    "l = 1 / (100 - math.sqrt(100))\n",
    "r = 1.3 * 2 * (l * A)"
   ]
  },
  {
   "cell_type": "code",
   "execution_count": 2,
   "metadata": {
    "collapsed": false
   },
   "outputs": [],
   "source": [
    "import threading\n",
    "import time\n",
    "from IPython.display import clear_output\n",
    "from threading import Thread\n",
    "\n",
    "for i in range(100):\n",
    "    T += 10\n",
    "    A = (np.random.pareto(5.5) + 1) * 500\n",
    "    rk = np.random.uniform(r * 0.7, r * 1.3)\n",
    "    client = [T, np.random.uniform(1, A), A, rk]\n",
    "    clients.append(client)"
   ]
  },
  {
   "cell_type": "code",
   "execution_count": null,
   "metadata": {
    "collapsed": false
   },
   "outputs": [
    {
     "name": "stdout",
     "output_type": "stream",
     "text": [
      "78\n"
     ]
    }
   ],
   "source": [
    "e = threading.Event()\n",
    "e1 = threading.Event()\n",
    "e2 = threading.Event()\n",
    "\n",
    "class TimeThread(Thread):\n",
    "    def __init__(self):\n",
    "        self.stopped = False\n",
    "        Thread.__init__(self)\n",
    "        \n",
    "    def stop(self):\n",
    "        self.stopped = True\n",
    "    \n",
    "    def run(self):\n",
    "        global T\n",
    "        while not self.stopped:\n",
    "            T += 1\n",
    "            e.wait(timeout=0.001)\n",
    "\n",
    "class GenerationThread(Thread):\n",
    "    def __init__(self, exp_param, power_param, val_power):\n",
    "        self.exp_param = exp_param\n",
    "        self.power_param = power_param\n",
    "        self.val_power = val_power\n",
    "        Thread.__init__(self)\n",
    "    \n",
    "    def run(self):\n",
    "        global clients, e, T\n",
    "        for i in range(150):\n",
    "            pause = np.random.exponential(self.exp_param)\n",
    "            e1.wait(timeout=pause / 1000.)\n",
    "            A = (np.random.pareto(self.power_param) + 1) * self.val_power\n",
    "            rk = np.random.uniform(r * 0.7, r * 1.3)\n",
    "            client = [T, 0., A, rk]\n",
    "            clients.append(client)\n",
    "            \n",
    "\n",
    "class ListeningThread(Thread):\n",
    "    def __init__(self, timeout):\n",
    "        self.timeout = timeout\n",
    "        self.stopped = False\n",
    "        Thread.__init__(self)\n",
    "        \n",
    "    def stop(self):\n",
    "        self.stopped = True\n",
    "     \n",
    "    def run(self):\n",
    "        global clients, T\n",
    "        while not self.stopped:\n",
    "            e2.wait(timeout=self.timeout)\n",
    "            try:\n",
    "                k = []\n",
    "                for i in range(len(clients)):\n",
    "                    Tk0 = clients[i][0]\n",
    "                    Rk = clients[i][1] + 1e-20\n",
    "                    clients[i][3] = np.random.uniform(r * 0.7, r*1.3)\n",
    "                    rk = clients[i][3]\n",
    "                    k.append(rk / (T-Tk0))\n",
    "                # i = np.random.choice(np.arange(0, len(clients)), p=[ki / sum(k) for ki in k])\n",
    "                i = k.index(max(k))\n",
    "                clients[i][1] += min(clients[i][3], clients[i][2] - clients[i][1])\n",
    "                clear_output(wait=True)\n",
    "                print(len(clients))\n",
    "                if clients[i][1] == clients[i][2]:\n",
    "                    ready_clients.append(clients[i] + [T])\n",
    "                    del clients[i]\n",
    "            except:\n",
    "                pass\n",
    "        \n",
    "time = TimeThread()\n",
    "time.start()\n",
    "\n",
    "listening = ListeningThread(0.00067)\n",
    "listening.start()\n",
    "        \n",
    "generation = GenerationThread(100, 5.5, 500)\n",
    "generation.start()\n",
    "\n",
    "generation.join()\n",
    "listening.stop()\n",
    "time.stop()\n",
    "clear_output(wait=True)\n",
    "print(\"Ready!\")\n",
    "len(ready_clients)"
   ]
  },
  {
   "cell_type": "code",
   "execution_count": 4,
   "metadata": {
    "collapsed": false
   },
   "outputs": [
    {
     "data": {
      "text/plain": [
       "4.544433350140282"
      ]
     },
     "execution_count": 4,
     "metadata": {},
     "output_type": "execute_result"
    }
   ],
   "source": [
    "HuaweiQ = 0.\n",
    "for k in ready_clients:\n",
    "    HuaweiQ += k[1] / (k[-1] - k[0])\n",
    "HuaweiQ /= len(ready_clients)\n",
    "HuaweiQ"
   ]
  },
  {
   "cell_type": "markdown",
   "metadata": {},
   "source": [
    "$$Q_{Huawei}(Index_{Old}) = 0.69 $$"
   ]
  },
  {
   "cell_type": "markdown",
   "metadata": {},
   "source": [
    "$$Q_{Huawei}(Index_{Intel, IBM}) = 2.84 $$"
   ]
  },
  {
   "cell_type": "markdown",
   "metadata": {
    "collapsed": true
   },
   "source": [
    "$$Q_{Huawei}(Index_{Huawei}) = 2.88 $$"
   ]
  },
  {
   "cell_type": "markdown",
   "metadata": {},
   "source": [
    "$$Q_{Huawei}(Index_{Google}) = 3.08 $$"
   ]
  },
  {
   "cell_type": "markdown",
   "metadata": {},
   "source": [
    "$$Q_{Huawei}(Index_{Timofey}) = 3.92 $$"
   ]
  }
 ],
 "metadata": {
  "anaconda-cloud": {},
  "celltoolbar": "Raw Cell Format",
  "kernelspec": {
   "display_name": "Python [default]",
   "language": "python",
   "name": "python3"
  },
  "language_info": {
   "codemirror_mode": {
    "name": "ipython",
    "version": 3
   },
   "file_extension": ".py",
   "mimetype": "text/x-python",
   "name": "python",
   "nbconvert_exporter": "python",
   "pygments_lexer": "ipython3",
   "version": "3.5.2"
  }
 },
 "nbformat": 4,
 "nbformat_minor": 2
}
