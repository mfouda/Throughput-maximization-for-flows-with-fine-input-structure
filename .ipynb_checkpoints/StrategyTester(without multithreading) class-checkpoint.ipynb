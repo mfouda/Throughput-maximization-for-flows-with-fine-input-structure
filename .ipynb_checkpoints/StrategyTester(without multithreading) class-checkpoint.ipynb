{
 "cells": [
  {
   "cell_type": "code",
   "execution_count": 7,
   "metadata": {
    "collapsed": true
   },
   "outputs": [],
   "source": [
    "import numpy as np\n",
    "import math"
   ]
  },
  {
   "cell_type": "code",
   "execution_count": 74,
   "metadata": {
    "collapsed": false
   },
   "outputs": [],
   "source": [
    "class Scheduler:\n",
    "    def __init__(self, pareto_a=5.5, pareto_m=500, time_between_clients=11, \n",
    "                 initial_clients_count=100, generated_clients_count=500):\n",
    "        self.pareto_a = pareto_a\n",
    "        self.pareto_m = pareto_m\n",
    "\n",
    "        self.time_between_clients = time_between_clients\n",
    "\n",
    "        A_mean = (pareto_m * pareto_a / (pareto_a - 1))\n",
    "        A_std = math.sqrt((pareto_a / (pareto_a-2)) * (pareto_m / (pareto_a - 1)) ** 2)\n",
    "        A = A_mean + A_std\n",
    "\n",
    "        time_between_clients_mean = time_between_clients\n",
    "        time_between_clients_std = math.sqrt(time_between_clients)\n",
    "        λ = 1 / (time_between_clients_mean - time_between_clients_std)\n",
    "        self.r = (λ * A)\n",
    "\n",
    "        self.initial_clients_count = initial_clients_count\n",
    "        self.generated_clients_count = generated_clients_count\n",
    "\n",
    "        self.processed_clients = []\n",
    "        self.all_clients = []\n",
    "\n",
    "        self.queue = []\n",
    "        self.t = 0\n",
    "    \n",
    "    def clean(self):\n",
    "        self.processed_clients = []\n",
    "        self.all_clients = []\n",
    "\n",
    "        self.queue = []\n",
    "        self.t = 0\n",
    "    \n",
    "    def generate_initial_clients(self):\n",
    "        for i in range(self.initial_clients_count):\n",
    "            Ak = int((np.random.pareto(self.pareto_a) + 1) * self.pareto_m)\n",
    "            rk_mean = int(np.random.uniform(self.r / 5.5, self.r * (10 / 5.5)))\n",
    "            Rk = int(np.random.uniform(0, Ak))\n",
    "            Tk0 = 0\n",
    "            client = [Tk0, Ak, Rk, rk_mean]\n",
    "            self.queue.append(client)\n",
    "        \n",
    "    def generate_clients(self):\n",
    "        T0 = 0\n",
    "        for i in range(self.generated_clients_count):\n",
    "            Ak = int((np.random.pareto(self.pareto_a) + 1) * self.pareto_m)\n",
    "            rk_mean = int(np.random.uniform(self.r / 5.5, self.r * (10 / 5.5)))\n",
    "            T0 += int(np.random.exponential(self.time_between_clients))\n",
    "            Rk = 0\n",
    "            client = [T0, Ak, Rk, rk_mean]\n",
    "            self.all_clients.append(client)\n",
    "    \n",
    "    def index_client(self, index_strategy, rk, Rk, rk_mean, Tk, Tk0):\n",
    "        if index_strategy == \"1\":\n",
    "            return rk\n",
    "        elif index_strategy == \"2\":\n",
    "            return -Tk0\n",
    "        elif index_strategy == \"3\":\n",
    "            return rk * Tk / Rk\n",
    "        elif index_strategy == \"4\":\n",
    "            return rk / Rk\n",
    "        elif index_strategy == \"5\":\n",
    "            return rk / (Tk + 1e-20) \n",
    "\n",
    "    def run_simulation(self, strategy=\"4\"):\n",
    "        history = []\n",
    "        huawei_quality_metric = 0.\n",
    "        \n",
    "        while len(self.all_clients) != 0:\n",
    "            self.t += 1\n",
    "\n",
    "            j = 0\n",
    "            while ((j < len(self.all_clients)) and (self.all_clients[j][0] <= self.t)):\n",
    "                j += 1\n",
    "            self.queue += self.all_clients[:j]\n",
    "            self.all_clients[:j] = []\n",
    "\n",
    "            max_index = -1e20\n",
    "            argmax_index = 0\n",
    "            rk_argmax = 0\n",
    "            for k in range(len(self.queue)):\n",
    "                Tk0 = self.queue[k][0]\n",
    "                Tk = self.t - Tk0\n",
    "                rk_mean = self.queue[k][3]\n",
    "                rk = int(np.random.uniform(rk_mean * 0.7, rk_mean * 1.3))\n",
    "                Rk = self.queue[k][2] + 1e-10\n",
    "                \n",
    "                index_k = self.index_client(strategy, rk, Rk, rk_mean, Tk, Tk0)\n",
    "                if index_k > max_index :\n",
    "                    max_index = index_k\n",
    "                    argmax_index = k\n",
    "                    rk_argmax = rk\n",
    "\n",
    "            if len(self.queue) > 0:\n",
    "                self.queue[argmax_index][2] += rk_argmax\n",
    "                if self.queue[argmax_index][2] >= self.queue[argmax_index][1]:\n",
    "                    self.queue[argmax_index].append(self.t - self.queue[argmax_index][0])\n",
    "                    self.processed_clients.append(self.queue[argmax_index])\n",
    "                    del self.queue[argmax_index]\n",
    "            history.append(len(self.queue))\n",
    "            \n",
    "        for i in range(len(self.processed_clients)):\n",
    "            huawei_quality_metric += self.processed_clients[i][1] / self.processed_clients[i][-1]\n",
    "        huawei_quality_metric /= len(self.processed_clients)\n",
    "        \n",
    "        return history, huawei_quality_metric"
   ]
  },
  {
   "cell_type": "code",
   "execution_count": 81,
   "metadata": {
    "collapsed": false
   },
   "outputs": [
    {
     "name": "stdout",
     "output_type": "stream",
     "text": [
      "69.43873239391831\n",
      "70.3989540984678\n"
     ]
    }
   ],
   "source": [
    "scheduler = Scheduler()\n",
    "scheduler.generate_initial_clients()\n",
    "scheduler.generate_clients()\n",
    "history, metric = scheduler.run_simulation(strategy=\"5\")\n",
    "scheduler.clean()\n",
    "print(metric)\n",
    "scheduler.generate_initial_clients()\n",
    "scheduler.generate_clients()\n",
    "history, metric = scheduler.run_simulation(strategy=\"5\")\n",
    "scheduler.clean()\n",
    "print(metric)"
   ]
  },
  {
   "cell_type": "code",
   "execution_count": null,
   "metadata": {
    "collapsed": true
   },
   "outputs": [],
   "source": []
  }
 ],
 "metadata": {
  "anaconda-cloud": {},
  "kernelspec": {
   "display_name": "Python [default]",
   "language": "python",
   "name": "python3"
  },
  "language_info": {
   "codemirror_mode": {
    "name": "ipython",
    "version": 3
   },
   "file_extension": ".py",
   "mimetype": "text/x-python",
   "name": "python",
   "nbconvert_exporter": "python",
   "pygments_lexer": "ipython3",
   "version": "3.5.2"
  }
 },
 "nbformat": 4,
 "nbformat_minor": 1
}
