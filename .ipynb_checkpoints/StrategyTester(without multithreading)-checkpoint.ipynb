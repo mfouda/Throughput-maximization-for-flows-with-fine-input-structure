{
 "cells": [
  {
   "cell_type": "code",
   "execution_count": 1,
   "metadata": {
    "collapsed": true
   },
   "outputs": [],
   "source": [
    "import numpy as np\n",
    "import math\n",
    "from IPython.display import clear_output"
   ]
  },
  {
   "cell_type": "code",
   "execution_count": 2,
   "metadata": {
    "collapsed": false
   },
   "outputs": [],
   "source": [
    "pareto_a = 5.5\n",
    "pareto_m = 500\n",
    "\n",
    "time_between_clients = 11\n",
    "\n",
    "A_mean = (pareto_m * pareto_a / (pareto_a - 1))\n",
    "A_std = math.sqrt((pareto_a / (pareto_a-2)) * (pareto_m / (pareto_a - 1)) ** 2)\n",
    "A = A_mean + A_std\n",
    "\n",
    "time_between_clients_mean = time_between_clients\n",
    "time_between_clients_std = math.sqrt(time_between_clients)\n",
    "λ = 1 / (time_between_clients_mean - time_between_clients_std)\n",
    "r = (λ * A)\n",
    "\n",
    "initial_clients = 100\n",
    "generated_clients = 500\n",
    "\n",
    "processed_clients = []\n",
    "all_clients = []\n",
    "\n",
    "queue = []\n",
    "t = 0"
   ]
  },
  {
   "cell_type": "code",
   "execution_count": 3,
   "metadata": {
    "collapsed": false
   },
   "outputs": [],
   "source": [
    "\n",
    "\n",
    "T0 = 0\n",
    "for i in range (generated_clients):\n",
    "    Ak = int((np.random.pareto(pareto_a) + 1) * pareto_m)\n",
    "    rk_mean = int(np.random.uniform(r / 5.5, r * (10 / 5.5)))\n",
    "    T0 += int(np.random.exponential(11))\n",
    "    Rk = 0\n",
    "    client = [T0, Ak, Rk, rk_mean]\n",
    "    all_clients.append(client)"
   ]
  },
  {
   "cell_type": "code",
   "execution_count": 4,
   "metadata": {
    "collapsed": false
   },
   "outputs": [],
   "source": [
    "def index_client(index_strategy, rk, Rk, rk_mean, Tk, Tk0):\n",
    "    if index_strategy == \"1\":\n",
    "        return rk\n",
    "    elif index_strategy == \"2\":\n",
    "        return Tk0\n",
    "    elif index_strategy == \"3\":\n",
    "        return rk * Tk / Rk\n",
    "    elif index_strategy == \"4\":\n",
    "        return rk / Rk"
   ]
  },
  {
   "cell_type": "code",
   "execution_count": 5,
   "metadata": {
    "collapsed": false
   },
   "outputs": [
    {
     "name": "stdout",
     "output_type": "stream",
     "text": [
      "13\n"
     ]
    }
   ],
   "source": [
    "while len(all_clients) != 0:\n",
    "    t += 1\n",
    "    \n",
    "    if all_clients[0][0] <= t:\n",
    "        queue.append(all_clients[0])\n",
    "        del all_clients[0]\n",
    "            \n",
    "    max_index = 0\n",
    "    argmax_index = 0\n",
    "    rk_argmax = 0\n",
    "    for k in range(len(queue)):\n",
    "        Tk0 = queue[k][0]\n",
    "        Tk = t - Tk0\n",
    "        rk_mean = queue[k][3]\n",
    "        rk = int(np.random.uniform(rk_mean * 0.7, rk_mean * 1.3))\n",
    "        Rk = queue[k][2] + 1e-10\n",
    "        \n",
    "        index_k = index_client(\"3\", rk, Rk, rk_mean, Tk, Tk0)\n",
    "        if index_k > max_index :\n",
    "            max_index = index_k\n",
    "            argmax_index = k\n",
    "            rk_argmax = rk\n",
    "    \n",
    "    if len(queue) > 0:\n",
    "        queue[argmax_index][2] += rk_argmax\n",
    "        if queue[argmax_index][2] >= queue[argmax_index][1]:\n",
    "            queue[argmax_index].append(t - queue[argmax_index][0])\n",
    "            processed_clients.append(queue[argmax_index])\n",
    "            del queue[argmax_index]\n",
    "    clear_output(wait=True)\n",
    "    print(len(queue))"
   ]
  },
  {
   "cell_type": "code",
   "execution_count": 6,
   "metadata": {
    "collapsed": false
   },
   "outputs": [
    {
     "data": {
      "text/plain": [
       "23.431564761486037"
      ]
     },
     "execution_count": 6,
     "metadata": {},
     "output_type": "execute_result"
    }
   ],
   "source": [
    "HuaweiQ = 0.\n",
    "for i in range(len(processed_clients)):\n",
    "    HuaweiQ += processed_clients[i][1] / processed_clients[i][-1]\n",
    "HuaweiQ /= len(processed_clients)\n",
    "HuaweiQ"
   ]
  },
  {
   "cell_type": "code",
   "execution_count": null,
   "metadata": {
    "collapsed": true
   },
   "outputs": [],
   "source": []
  }
 ],
 "metadata": {
  "anaconda-cloud": {},
  "kernelspec": {
   "display_name": "Python [default]",
   "language": "python",
   "name": "python3"
  },
  "language_info": {
   "codemirror_mode": {
    "name": "ipython",
    "version": 3
   },
   "file_extension": ".py",
   "mimetype": "text/x-python",
   "name": "python",
   "nbconvert_exporter": "python",
   "pygments_lexer": "ipython3",
   "version": "3.5.2"
  }
 },
 "nbformat": 4,
 "nbformat_minor": 1
}
