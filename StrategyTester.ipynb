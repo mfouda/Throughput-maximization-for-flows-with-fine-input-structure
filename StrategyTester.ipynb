{
 "cells": [
  {
   "cell_type": "code",
   "execution_count": 1,
   "metadata": {
    "collapsed": true
   },
   "outputs": [],
   "source": [
    "import math\n",
    "import numpy as np\n",
    "import time\n",
    "from IPython.display import clear_output\n",
    "from threading import Thread, Event"
   ]
  },
  {
   "cell_type": "code",
   "execution_count": 2,
   "metadata": {
    "collapsed": false
   },
   "outputs": [],
   "source": [
    "# T_k^0, R_k(last_t), A_k, r_k(last_t)\n",
    "clients = []\n",
    "ready_clients = []\n",
    "T = 0.\n",
    "A =  (500 * 5.5 / 4.5) + math.sqrt((5.5 / 3.5) * (500 / 4.5) ** 2)\n",
    "l = 1 / (100 - math.sqrt(100))\n",
    "r = 1.3 * 2 * (l * A)"
   ]
  },
  {
   "cell_type": "code",
   "execution_count": 3,
   "metadata": {
    "collapsed": false
   },
   "outputs": [],
   "source": [
    "for i in range(100):\n",
    "    T += 10\n",
    "    A = (np.random.pareto(5.5) + 1) * 500\n",
    "    r_mean = np.random.uniform(r / 5.5, r * (10 / 5.5))\n",
    "    rk = np.random.uniform(r_mean * 0.7, r_mean * 1.3)\n",
    "    client = [T, np.random.uniform(1, A), A, rk, r_mean]\n",
    "    clients.append(client)"
   ]
  },
  {
   "cell_type": "code",
   "execution_count": null,
   "metadata": {
    "collapsed": false
   },
   "outputs": [
    {
     "name": "stdout",
     "output_type": "stream",
     "text": [
      "99\n"
     ]
    }
   ],
   "source": [
    "e = Event()\n",
    "e1 = Event()\n",
    "e2 = Event()\n",
    "\n",
    "class TimeThread(Thread):\n",
    "    def __init__(self, e_):\n",
    "        self.stopped = False\n",
    "        self.e = e_\n",
    "        Thread.__init__(self)\n",
    "        \n",
    "    def stop(self):\n",
    "        self.stopped = True\n",
    "    \n",
    "    def run(self):\n",
    "        global T\n",
    "        while not self.stopped:\n",
    "            T += 1\n",
    "            self.e.wait(timeout=0.001)\n",
    "\n",
    "class GenerationThread(Thread):\n",
    "    def __init__(self, exp_param, power_param, val_power, e_):\n",
    "        self.exp_param = exp_param\n",
    "        self.power_param = power_param\n",
    "        self.val_power = val_power\n",
    "        self.e = e_\n",
    "        Thread.__init__(self)\n",
    "    \n",
    "    def run(self):\n",
    "        global clients, T\n",
    "        for i in range(150):\n",
    "            pause = np.random.exponential(self.exp_param)\n",
    "            self.e.wait(timeout=pause / 1000.)\n",
    "            A = (np.random.pareto(self.power_param) + 1) * self.val_power\n",
    "            r_mean = np.random.uniform(r / 5.5, r * (10 / 5.5))\n",
    "            rk = np.random.uniform(r_mean * 0.7, r_mean * 1.3)\n",
    "            client = [T, 0., A, rk, r_mean]\n",
    "            clients.append(client)\n",
    "            \n",
    "\n",
    "class ListeningThread(Thread):\n",
    "    def __init__(self, timeout, e_):\n",
    "        self.timeout = timeout\n",
    "        self.stopped = False\n",
    "        self.e = e_\n",
    "        Thread.__init__(self)\n",
    "        \n",
    "    def stop(self):\n",
    "        self.stopped = True\n",
    "     \n",
    "    def run(self):\n",
    "        global clients, T\n",
    "        while not self.stopped:\n",
    "            self.e.wait(timeout=self.timeout)\n",
    "            try:\n",
    "                k = []\n",
    "                for i in range(len(clients)):\n",
    "                    Tk0 = clients[i][0]\n",
    "                    Rk = clients[i][1] + 1e-20\n",
    "                    r_mean = clients[i][4]\n",
    "                    clients[i][3] = np.random.uniform(r_mean * 0.7, r_mean * 1.3)\n",
    "                    rk = clients[i][3]\n",
    "                    k.append(Tk0)\n",
    "                # i = np.random.choice(np.arange(0, len(clients)), p=[ki / sum(k) for ki in k])\n",
    "                i = np.argmin(k)\n",
    "                clients[i][1] += min(clients[i][3], clients[i][2] - clients[i][1])\n",
    "                clear_output(wait=True)\n",
    "                print(len(clients))\n",
    "                if clients[i][1] == clients[i][2]:\n",
    "                    ready_clients.append(clients[i] + [T])\n",
    "                    del clients[i]\n",
    "            except:\n",
    "                pass\n",
    "        \n",
    "time = TimeThread(e)\n",
    "time.start()\n",
    "\n",
    "listening = ListeningThread(0.00067, e1)\n",
    "listening.start()\n",
    "        \n",
    "generation = GenerationThread(100, 5.5, 500, e2)\n",
    "generation.start()\n",
    "\n",
    "generation.join()\n",
    "listening.stop()\n",
    "time.stop()\n",
    "clear_output(wait=True)\n",
    "print(\"Ready!\")\n",
    "len(ready_clients)"
   ]
  },
  {
   "cell_type": "code",
   "execution_count": 5,
   "metadata": {
    "collapsed": false
   },
   "outputs": [
    {
     "data": {
      "text/plain": [
       "7.9843627241247335"
      ]
     },
     "execution_count": 5,
     "metadata": {},
     "output_type": "execute_result"
    }
   ],
   "source": [
    "HuaweiQ = 0.\n",
    "for k in ready_clients:\n",
    "    HuaweiQ += k[2] / (k[-1] - k[0])\n",
    "HuaweiQ /= len(ready_clients)\n",
    "HuaweiQ"
   ]
  },
  {
   "cell_type": "markdown",
   "metadata": {},
   "source": [
    "$$Q_{Huawei}(Index_{Google}) = 1.89 $$"
   ]
  },
  {
   "cell_type": "markdown",
   "metadata": {
    "collapsed": true
   },
   "source": [
    "$$Q_{Huawei}(Index_{Huawei}) = 4.03 $$"
   ]
  },
  {
   "cell_type": "markdown",
   "metadata": {},
   "source": [
    "$$Q_{Huawei}(Index_{Intel, IBM}) = 6.91 $$"
   ]
  },
  {
   "cell_type": "markdown",
   "metadata": {},
   "source": [
    "$$Q_{Huawei}(Index_{Timofey}) = 7.06 $$"
   ]
  },
  {
   "cell_type": "markdown",
   "metadata": {},
   "source": [
    "$$Q_{Huawei}(Index_{RoundRobin}) = 7.98 $$"
   ]
  },
  {
   "cell_type": "code",
   "execution_count": null,
   "metadata": {
    "collapsed": true
   },
   "outputs": [],
   "source": []
  }
 ],
 "metadata": {
  "anaconda-cloud": {},
  "celltoolbar": "Raw Cell Format",
  "kernelspec": {
   "display_name": "Python [default]",
   "language": "python",
   "name": "python3"
  },
  "language_info": {
   "codemirror_mode": {
    "name": "ipython",
    "version": 3
   },
   "file_extension": ".py",
   "mimetype": "text/x-python",
   "name": "python",
   "nbconvert_exporter": "python",
   "pygments_lexer": "ipython3",
   "version": "3.5.2"
  }
 },
 "nbformat": 4,
 "nbformat_minor": 2
}
